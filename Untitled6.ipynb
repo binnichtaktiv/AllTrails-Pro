{
  "nbformat": 4,
  "nbformat_minor": 0,
  "metadata": {
    "colab": {
      "provenance": [],
      "include_colab_link": true
    },
    "kernelspec": {
      "name": "python3",
      "display_name": "Python 3"
    },
    "language_info": {
      "name": "python"
    }
  },
  "cells": [
    {
      "cell_type": "markdown",
      "metadata": {
        "id": "view-in-github",
        "colab_type": "text"
      },
      "source": [
        "<a href=\"https://colab.research.google.com/github/binnichtaktiv/AllTrails-Pro/blob/main/Untitled6.ipynb\" target=\"_parent\"><img src=\"https://colab.research.google.com/assets/colab-badge.svg\" alt=\"Open In Colab\"/></a>"
      ]
    },
    {
      "cell_type": "markdown",
      "source": [
        "Dragon Documentation: https://dragon.cynder.me/\n",
        "\n",
        "Use this to build your projects if you dont have a pc or jailbroken phone"
      ],
      "metadata": {
        "id": "PBKMg32LEfGV"
      }
    },
    {
      "cell_type": "code",
      "source": [
        "!pip3 install dragon\n",
        "from IPython.display import clear_output\n",
        "clear_output()\n",
        "!dragon\n",
        "#!cd /content/your_project_folder && dragon b     #change project path and if you want change arguments. When you are ready remove # and click on play"
      ],
      "metadata": {
        "id": "fGsP80EoBS6F"
      },
      "execution_count": null,
      "outputs": []
    },
    {
      "cell_type": "code",
      "source": [],
      "metadata": {
        "id": "yR7PDGXFErj3"
      },
      "execution_count": null,
      "outputs": []
    }
  ]
}